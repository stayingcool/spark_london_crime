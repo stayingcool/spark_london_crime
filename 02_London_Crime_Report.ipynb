{
 "cells": [
  {
   "cell_type": "code",
   "execution_count": 1,
   "metadata": {
    "collapsed": false
   },
   "outputs": [],
   "source": [
    "from pyspark.sql import SparkSession"
   ]
  },
  {
   "cell_type": "code",
   "execution_count": 2,
   "metadata": {
    "collapsed": false
   },
   "outputs": [],
   "source": [
    "# Build a spark session by analyzing crime report over a period of 8 years\n",
    "spark = SparkSession.builder\\\n",
    "                    .appName(\"Analyzing London Crime data\")\\\n",
    "                    .getOrCreate()"
   ]
  },
  {
   "cell_type": "code",
   "execution_count": 3,
   "metadata": {
    "collapsed": false
   },
   "outputs": [],
   "source": [
    "data = spark.read\\\n",
    "            .format(\"csv\")\\\n",
    "            .option(\"header\",\"true\")\\\n",
    "            .load(\"../datasets/london_crime_by_lsoa.csv\")"
   ]
  },
  {
   "cell_type": "code",
   "execution_count": 5,
   "metadata": {
    "collapsed": false
   },
   "outputs": [
    {
     "name": "stdout",
     "output_type": "stream",
     "text": [
      "root\n",
      " |-- lsoa_code: string (nullable = true)\n",
      " |-- borough: string (nullable = true)\n",
      " |-- major_category: string (nullable = true)\n",
      " |-- minor_category: string (nullable = true)\n",
      " |-- value: string (nullable = true)\n",
      " |-- year: string (nullable = true)\n",
      " |-- month: string (nullable = true)\n",
      "\n"
     ]
    }
   ],
   "source": [
    "data.printSchema()"
   ]
  },
  {
   "cell_type": "code",
   "execution_count": 6,
   "metadata": {
    "collapsed": false
   },
   "outputs": [
    {
     "data": {
      "text/plain": [
       "13490604"
      ]
     },
     "execution_count": 6,
     "metadata": {},
     "output_type": "execute_result"
    }
   ],
   "source": [
    "data.count()"
   ]
  },
  {
   "cell_type": "code",
   "execution_count": 8,
   "metadata": {
    "collapsed": false
   },
   "outputs": [
    {
     "name": "stdout",
     "output_type": "stream",
     "text": [
      "+---------+----------+--------------------+--------------------+-----+----+-----+\n",
      "|lsoa_code|   borough|      major_category|      minor_category|value|year|month|\n",
      "+---------+----------+--------------------+--------------------+-----+----+-----+\n",
      "|E01001116|   Croydon|            Burglary|Burglary in Other...|    0|2016|   11|\n",
      "|E01001646| Greenwich|Violence Against ...|      Other violence|    0|2016|   11|\n",
      "|E01000677|   Bromley|Violence Against ...|      Other violence|    0|2015|    5|\n",
      "|E01003774| Redbridge|            Burglary|Burglary in Other...|    0|2016|    3|\n",
      "|E01004563|Wandsworth|             Robbery|   Personal Property|    0|2008|    6|\n",
      "+---------+----------+--------------------+--------------------+-----+----+-----+\n",
      "\n"
     ]
    }
   ],
   "source": [
    "# Access a subset of a dataset through limit function\n",
    "# Value field indicates the number of convictions from that crime report\n",
    "data.limit(5).show()"
   ]
  },
  {
   "cell_type": "code",
   "execution_count": 9,
   "metadata": {
    "collapsed": false
   },
   "outputs": [
    {
     "data": {
      "text/plain": [
       "DataFrame[lsoa_code: string, borough: string, major_category: string, minor_category: string, value: string, year: string, month: string]"
      ]
     },
     "execution_count": 9,
     "metadata": {},
     "output_type": "execute_result"
    }
   ],
   "source": [
    "data.dropna()"
   ]
  },
  {
   "cell_type": "code",
   "execution_count": 10,
   "metadata": {
    "collapsed": false
   },
   "outputs": [
    {
     "name": "stdout",
     "output_type": "stream",
     "text": [
      "+----------+--------------------+--------------------+-----+----+-----+\n",
      "|   borough|      major_category|      minor_category|value|year|month|\n",
      "+----------+--------------------+--------------------+-----+----+-----+\n",
      "|   Croydon|            Burglary|Burglary in Other...|    0|2016|   11|\n",
      "| Greenwich|Violence Against ...|      Other violence|    0|2016|   11|\n",
      "|   Bromley|Violence Against ...|      Other violence|    0|2015|    5|\n",
      "| Redbridge|            Burglary|Burglary in Other...|    0|2016|    3|\n",
      "|Wandsworth|             Robbery|   Personal Property|    0|2008|    6|\n",
      "+----------+--------------------+--------------------+-----+----+-----+\n",
      "\n"
     ]
    }
   ],
   "source": [
    "# Remove unnecessary columns\n",
    "# Unique code for Crime Report\n",
    "data = data.drop(\"lsoa_code\")\n",
    "data.limit(5).show()"
   ]
  },
  {
   "cell_type": "code",
   "execution_count": 12,
   "metadata": {
    "collapsed": false
   },
   "outputs": [],
   "source": [
    "# Show distinct records\n",
    "total_boroughs = data.select('borough').distinct()"
   ]
  },
  {
   "cell_type": "code",
   "execution_count": 13,
   "metadata": {
    "collapsed": false
   },
   "outputs": [
    {
     "name": "stdout",
     "output_type": "stream",
     "text": [
      "+--------------------+\n",
      "|             borough|\n",
      "+--------------------+\n",
      "|             Croydon|\n",
      "|          Wandsworth|\n",
      "|              Bexley|\n",
      "|             Lambeth|\n",
      "|Barking and Dagenham|\n",
      "|              Camden|\n",
      "|           Greenwich|\n",
      "|              Newham|\n",
      "|       Tower Hamlets|\n",
      "|            Hounslow|\n",
      "|              Barnet|\n",
      "|              Harrow|\n",
      "|Kensington and Ch...|\n",
      "|           Islington|\n",
      "|               Brent|\n",
      "|            Haringey|\n",
      "|             Bromley|\n",
      "|              Merton|\n",
      "|         Westminster|\n",
      "|             Hackney|\n",
      "+--------------------+\n",
      "only showing top 20 rows\n",
      "\n"
     ]
    }
   ],
   "source": [
    "total_boroughs.show()"
   ]
  },
  {
   "cell_type": "code",
   "execution_count": 15,
   "metadata": {
    "collapsed": false
   },
   "outputs": [
    {
     "data": {
      "text/plain": [
       "33"
      ]
     },
     "execution_count": 15,
     "metadata": {},
     "output_type": "execute_result"
    }
   ],
   "source": [
    "total_boroughs.count()"
   ]
  },
  {
   "cell_type": "code",
   "execution_count": 23,
   "metadata": {
    "collapsed": false
   },
   "outputs": [
    {
     "name": "stdout",
     "output_type": "stream",
     "text": [
      "+-------+--------------------+--------------------+-----+----+-----+\n",
      "|borough|      major_category|      minor_category|value|year|month|\n",
      "+-------+--------------------+--------------------+-----+----+-----+\n",
      "|Hackney|     Criminal Damage|Criminal Damage T...|    0|2011|    6|\n",
      "|Hackney|Violence Against ...|          Harassment|    1|2013|    2|\n",
      "|Hackney|     Criminal Damage|Other Criminal Da...|    0|2011|    7|\n",
      "|Hackney|Violence Against ...|        Wounding/GBH|    0|2013|   12|\n",
      "|Hackney|  Theft and Handling|  Other Theft Person|    0|2016|    8|\n",
      "+-------+--------------------+--------------------+-----+----+-----+\n",
      "only showing top 5 rows\n",
      "\n"
     ]
    }
   ],
   "source": [
    "# Filter records from Hackney Borrow - Like a sql select with where clause\n",
    "hackney_data = data.filter(data['borough'] == 'Hackney')\n",
    "hackney_data.show(5)"
   ]
  },
  {
   "cell_type": "code",
   "execution_count": 24,
   "metadata": {
    "collapsed": false
   },
   "outputs": [
    {
     "data": {
      "text/plain": [
       "417744"
      ]
     },
     "execution_count": 24,
     "metadata": {},
     "output_type": "execute_result"
    }
   ],
   "source": [
    "hackney_data.count()"
   ]
  },
  {
   "cell_type": "code",
   "execution_count": 27,
   "metadata": {
    "collapsed": false
   },
   "outputs": [
    {
     "name": "stdout",
     "output_type": "stream",
     "text": [
      "+---------+--------------------+--------------------+-----+----+-----+\n",
      "|  borough|      major_category|      minor_category|value|year|month|\n",
      "+---------+--------------------+--------------------+-----+----+-----+\n",
      "|  Croydon|            Burglary|Burglary in Other...|    0|2016|   11|\n",
      "|Greenwich|Violence Against ...|      Other violence|    0|2016|   11|\n",
      "|  Bromley|Violence Against ...|      Other violence|    0|2015|    5|\n",
      "|Redbridge|            Burglary|Burglary in Other...|    0|2016|    3|\n",
      "|   Sutton|  Theft and Handling|Theft/Taking of P...|    1|2016|    8|\n",
      "+---------+--------------------+--------------------+-----+----+-----+\n",
      "only showing top 5 rows\n",
      "\n"
     ]
    }
   ],
   "source": [
    "# Filter records of 2015, 2016 - Like a sql in clause\n",
    "data_2015_2016 = data.filter(data['year'].isin([\"2015\", \"2016\"]))\n",
    "data_2015_2016.show(5)"
   ]
  },
  {
   "cell_type": "code",
   "execution_count": 28,
   "metadata": {
    "collapsed": false
   },
   "outputs": [
    {
     "name": "stdout",
     "output_type": "stream",
     "text": [
      "+--------------+--------------------+--------------------+-----+----+-----+\n",
      "|       borough|      major_category|      minor_category|value|year|month|\n",
      "+--------------+--------------------+--------------------+-----+----+-----+\n",
      "|       Croydon|            Burglary|Burglary in Other...|    0|2016|   11|\n",
      "|     Greenwich|Violence Against ...|      Other violence|    0|2016|   11|\n",
      "|     Redbridge|            Burglary|Burglary in Other...|    0|2016|    3|\n",
      "|       Lambeth|Violence Against ...|      Other violence|    0|2015|    4|\n",
      "|    Hillingdon|  Theft and Handling|Theft/Taking Of M...|    0|2016|    2|\n",
      "|      Haringey|Violence Against ...|        Wounding/GBH|    0|2015|   12|\n",
      "|      Lewisham|Violence Against ...|      Common Assault|    0|2016|    2|\n",
      "|       Bromley|     Criminal Damage|Criminal Damage T...|    1|2016|    4|\n",
      "|      Haringey|     Criminal Damage|Criminal Damage T...|    0|2016|   12|\n",
      "|      Havering|    Fraud or Forgery|  Counted per Victim|    0|2015|   11|\n",
      "|Waltham Forest|Other Notifiable ...|      Going Equipped|    0|2015|    2|\n",
      "|        Ealing|             Robbery|   Personal Property|    0|2015|    7|\n",
      "|         Brent|  Theft and Handling|Motor Vehicle Int...|    0|2015|    9|\n",
      "|      Hounslow|Violence Against ...|        Wounding/GBH|    2|2015|    8|\n",
      "|     Southwark|  Theft and Handling|    Theft From Shops|    4|2016|    8|\n",
      "|        Harrow|    Fraud or Forgery|Other Fraud & For...|    0|2015|    2|\n",
      "|        Newham|     Criminal Damage|Criminal Damage T...|    0|2015|    1|\n",
      "|        Barnet|Violence Against ...|      Other violence|    0|2015|   12|\n",
      "|     Greenwich|            Burglary|Burglary in Other...|    0|2016|   11|\n",
      "|     Islington|  Theft and Handling|Theft/Taking Of M...|    0|2016|    6|\n",
      "+--------------+--------------------+--------------------+-----+----+-----+\n",
      "only showing top 20 rows\n",
      "\n"
     ]
    }
   ],
   "source": [
    "# Show a sample by specifying the fraction\n",
    "data_2015_2016.sample(fraction=0.5).show()"
   ]
  },
  {
   "cell_type": "code",
   "execution_count": 30,
   "metadata": {
    "collapsed": false
   },
   "outputs": [
    {
     "name": "stdout",
     "output_type": "stream",
     "text": [
      "+--------------------+--------------------+--------------------+-----+----+-----+\n",
      "|             borough|      major_category|      minor_category|value|year|month|\n",
      "+--------------------+--------------------+--------------------+-----+----+-----+\n",
      "|               Brent|  Theft and Handling|Theft/Taking of P...|    0|2014|    9|\n",
      "|             Croydon|Violence Against ...|      Common Assault|    1|2014|   11|\n",
      "|          Hillingdon|Violence Against ...|    Offensive Weapon|    0|2014|    5|\n",
      "|            Havering|Violence Against ...|          Harassment|    1|2016|    8|\n",
      "|              Ealing|Other Notifiable ...|    Other Notifiable|    0|2016|   12|\n",
      "|              Camden|  Theft and Handling|         Other Theft|    1|2014|    1|\n",
      "|Kingston upon Thames|Other Notifiable ...|      Going Equipped|    0|2015|   12|\n",
      "|               Brent|Other Notifiable ...|    Other Notifiable|    0|2016|    4|\n",
      "|          Wandsworth|Violence Against ...|          Harassment|    0|2016|    4|\n",
      "|          Wandsworth|            Burglary|Burglary in Other...|    0|2015|    3|\n",
      "|            Lewisham|Violence Against ...|          Harassment|    2|2015|    3|\n",
      "|            Havering|Violence Against ...|    Offensive Weapon|    0|2016|   11|\n",
      "|              Merton|Violence Against ...|          Harassment|    1|2015|    6|\n",
      "|              Bexley|             Robbery|   Personal Property|    0|2016|    1|\n",
      "|              Bexley|  Theft and Handling|Theft/Taking Of M...|    0|2016|   11|\n",
      "|               Brent|            Burglary|Burglary in a Dwe...|    0|2016|    1|\n",
      "|          Wandsworth|Violence Against ...|    Offensive Weapon|    0|2016|    2|\n",
      "|       Tower Hamlets|Violence Against ...|        Wounding/GBH|    1|2015|    9|\n",
      "|             Lambeth|    Fraud or Forgery|  Counted per Victim|    0|2016|    2|\n",
      "|             Bromley|  Theft and Handling|Theft/Taking of P...|    0|2014|    9|\n",
      "+--------------------+--------------------+--------------------+-----+----+-----+\n",
      "only showing top 20 rows\n",
      "\n"
     ]
    }
   ],
   "source": [
    "# Filter records from 2014 onwards using >= clause\n",
    "data_2014_onwards = data.filter(data['year'] >= 2014)\n",
    "data_2014_onwards.sample(fraction=0.1).show()"
   ]
  },
  {
   "cell_type": "code",
   "execution_count": null,
   "metadata": {
    "collapsed": true
   },
   "outputs": [],
   "source": []
  }
 ],
 "metadata": {
  "kernelspec": {
   "display_name": "Python 3",
   "language": "python",
   "name": "python3"
  },
  "language_info": {
   "codemirror_mode": {
    "name": "ipython",
    "version": 3
   },
   "file_extension": ".py",
   "mimetype": "text/x-python",
   "name": "python",
   "nbconvert_exporter": "python",
   "pygments_lexer": "ipython3",
   "version": "3.6.0"
  }
 },
 "nbformat": 4,
 "nbformat_minor": 2
}
